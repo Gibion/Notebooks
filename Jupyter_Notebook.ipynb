{
 "cells": [
  {
   "cell_type": "markdown",
   "metadata": {},
   "source": [
    "<center>\n",
    "    <img src=\"https://s3-api.us-geo.objectstorage.softlayer.net/cf-courses-data/CognitiveClass/Logos/organization_logo/organization_logo.png\" width=\"300\" alt=\"cognitiveclass.ai logo\"  />\n",
    "</center>\n"
   ]
  },
  {
   "cell_type": "markdown",
   "metadata": {
    "tags": []
   },
   "source": [
    "#### Add your code below following the instructions given in the course\n"
   ]
  },
  {
   "cell_type": "markdown",
   "metadata": {},
   "source": [
    "# My Jupyter Notebook on IBM Watson Studio"
   ]
  },
  {
   "cell_type": "markdown",
   "metadata": {},
   "source": [
    "**Gibion Makiwa**\\\n",
    "Teacher"
   ]
  },
  {
   "cell_type": "markdown",
   "metadata": {},
   "source": [
    "*I am interested in data science because I enjoy processing and analyzing data to extract meaningful information.* \\\n",
    "*This information can then be used to make critical decisions in various areas of life.*"
   ]
  },
  {
   "cell_type": "markdown",
   "metadata": {},
   "source": [
    "### My code generates x values from -10 to 10 and plots a graph of $$f(x) = \\frac{1}{x^2}$$ ###"
   ]
  },
  {
   "cell_type": "code",
   "execution_count": 20,
   "metadata": {},
   "outputs": [
    {
     "data": {
      "image/png": "[encoded data removed]",
      "text/plain": [
       "<Figure size 200x200 with 1 Axes>"
      ]
     },
     "metadata": {},
     "output_type": "display_data"
    }
   ],
   "source": [
    "import matplotlib.pyplot as plt\n",
    "import numpy as np\n",
    "\n",
    "# generate data\n",
    "x = np.linspace(0, 20, 100)\n",
    "x = x-10\n",
    "y = 3/x**2\n",
    "\n",
    "# plot graph and add labels\n",
    "fig, ax = plt.subplots()\n",
    "ax.plot(x, y, linewidth=1.0, color='r')\n",
    "ax.set(xlim=(-10, 10), xticks=np.arange(-10, 11,2))\n",
    "ax.set(ylim=(0, 25), yticks=np.arange(0, 26,5))\n",
    "ax.set_xlabel(\"x\")\n",
    "ax.set_ylabel(\"f(x)\")\n",
    "plt.show()"
   ]
  },
  {
   "cell_type": "markdown",
   "metadata": {},
   "source": [
    "<hr>\n",
    "\n",
    "<ul>\n",
    "<li>code</li>\n",
    "<li>python</li>\n",
    "<li>jython</li>\n",
    "</ul>\n",
    "\n",
    "<hr>\n",
    "\n",
    "<ol>\n",
    "<li>code</li>\n",
    "<li>python</li>\n",
    "<li>jython</li>\n",
    "</ol>\n",
    "\n",
    "<hr>\n",
    "\n",
    "|Country|Name|Language|Gender| \n",
    "|-----|-----|-----|-----| \n",
    "|Mamane|Zoba|French|M| \n",
    "|Mococo|Zuda|Tonga|F|\n",
    "\n",
    "<hr>\n",
    "<a href=\"https://www.google.com\" >Link to Google</a>\n",
    "\n",
    "<hr>\n",
    "<blockquote>This exercise was awesome.</blockquote>\n",
    "\n",
    "<hr>"
   ]
  },
  {
   "cell_type": "code",
   "execution_count": null,
   "metadata": {},
   "outputs": [],
   "source": []
  }
 ],
 "metadata": {
  "kernelspec": {
   "display_name": "Python",
   "language": "python",
   "name": "conda-env-python-py"
  },
  "language_info": {
   "codemirror_mode": {
    "name": "ipython",
    "version": 3
   },
   "file_extension": ".py",
   "mimetype": "text/x-python",
   "name": "python",
   "nbconvert_exporter": "python",
   "pygments_lexer": "ipython3",
   "version": "3.7.12"
  }
 },
 "nbformat": 4,
 "nbformat_minor": 4
}
